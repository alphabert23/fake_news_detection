{
 "cells": [
  {
   "cell_type": "code",
   "execution_count": 1,
   "id": "3d34f58b",
   "metadata": {
    "_cell_guid": "b1076dfc-b9ad-4769-8c92-a6c4dae69d19",
    "_uuid": "8f2839f25d086af736a60e9eeb907d3b93b6e0e5",
    "execution": {
     "iopub.execute_input": "2023-12-28T04:32:46.806392Z",
     "iopub.status.busy": "2023-12-28T04:32:46.805881Z",
     "iopub.status.idle": "2023-12-28T04:32:47.222281Z",
     "shell.execute_reply": "2023-12-28T04:32:47.220965Z"
    },
    "papermill": {
     "duration": 0.428057,
     "end_time": "2023-12-28T04:32:47.224766",
     "exception": false,
     "start_time": "2023-12-28T04:32:46.796709",
     "status": "completed"
    },
    "tags": []
   },
   "outputs": [
    {
     "name": "stdout",
     "output_type": "stream",
     "text": [
      "/kaggle/input/fake-news/news.csv\n"
     ]
    }
   ],
   "source": [
    "# This Python 3 environment comes with many helpful analytics libraries installed\n",
    "# It is defined by the kaggle/python Docker image: https://github.com/kaggle/docker-python\n",
    "# For example, here's several helpful packages to load\n",
    "\n",
    "import numpy as np # linear algebra\n",
    "import pandas as pd # data processing, CSV file I/O (e.g. pd.read_csv)\n",
    "\n",
    "# Input data files are available in the read-only \"../input/\" directory\n",
    "# For example, running this (by clicking run or pressing Shift+Enter) will list all files under the input directory\n",
    "\n",
    "import os\n",
    "for dirname, _, filenames in os.walk('/kaggle/input'):\n",
    "    for filename in filenames:\n",
    "        print(os.path.join(dirname, filename))\n",
    "\n",
    "# You can write up to 20GB to the current directory (/kaggle/working/) that gets preserved as output when you create a version using \"Save & Run All\" \n",
    "# You can also write temporary files to /kaggle/temp/, but they won't be saved outside of the current session"
   ]
  },
  {
   "cell_type": "code",
   "execution_count": 2,
   "id": "1ce50151",
   "metadata": {
    "execution": {
     "iopub.execute_input": "2023-12-28T04:32:47.240436Z",
     "iopub.status.busy": "2023-12-28T04:32:47.239951Z",
     "iopub.status.idle": "2023-12-28T04:33:01.576561Z",
     "shell.execute_reply": "2023-12-28T04:33:01.575770Z"
    },
    "papermill": {
     "duration": 14.347143,
     "end_time": "2023-12-28T04:33:01.579012",
     "exception": false,
     "start_time": "2023-12-28T04:32:47.231869",
     "status": "completed"
    },
    "tags": []
   },
   "outputs": [
    {
     "data": {
      "text/html": [
       "<div>\n",
       "<style scoped>\n",
       "    .dataframe tbody tr th:only-of-type {\n",
       "        vertical-align: middle;\n",
       "    }\n",
       "\n",
       "    .dataframe tbody tr th {\n",
       "        vertical-align: top;\n",
       "    }\n",
       "\n",
       "    .dataframe thead th {\n",
       "        text-align: right;\n",
       "    }\n",
       "</style>\n",
       "<table border=\"1\" class=\"dataframe\">\n",
       "  <thead>\n",
       "    <tr style=\"text-align: right;\">\n",
       "      <th></th>\n",
       "      <th>title</th>\n",
       "      <th>text</th>\n",
       "      <th>label</th>\n",
       "    </tr>\n",
       "  </thead>\n",
       "  <tbody>\n",
       "    <tr>\n",
       "      <th>0</th>\n",
       "      <td>You Can Smell Hillary’s Fear</td>\n",
       "      <td>Daniel Greenfield, a Shillman Journalism Fello...</td>\n",
       "      <td>1</td>\n",
       "    </tr>\n",
       "    <tr>\n",
       "      <th>1</th>\n",
       "      <td>Watch The Exact Moment Paul Ryan Committed Pol...</td>\n",
       "      <td>Google Pinterest Digg Linkedin Reddit Stumbleu...</td>\n",
       "      <td>1</td>\n",
       "    </tr>\n",
       "    <tr>\n",
       "      <th>2</th>\n",
       "      <td>Kerry to go to Paris in gesture of sympathy</td>\n",
       "      <td>U.S. Secretary of State John F. Kerry said Mon...</td>\n",
       "      <td>0</td>\n",
       "    </tr>\n",
       "    <tr>\n",
       "      <th>3</th>\n",
       "      <td>Bernie supporters on Twitter erupt in anger ag...</td>\n",
       "      <td>— Kaydee King (@KaydeeKing) November 9, 2016 T...</td>\n",
       "      <td>1</td>\n",
       "    </tr>\n",
       "    <tr>\n",
       "      <th>4</th>\n",
       "      <td>The Battle of New York: Why This Primary Matters</td>\n",
       "      <td>It's primary day in New York and front-runners...</td>\n",
       "      <td>0</td>\n",
       "    </tr>\n",
       "  </tbody>\n",
       "</table>\n",
       "</div>"
      ],
      "text/plain": [
       "                                               title  \\\n",
       "0                       You Can Smell Hillary’s Fear   \n",
       "1  Watch The Exact Moment Paul Ryan Committed Pol...   \n",
       "2        Kerry to go to Paris in gesture of sympathy   \n",
       "3  Bernie supporters on Twitter erupt in anger ag...   \n",
       "4   The Battle of New York: Why This Primary Matters   \n",
       "\n",
       "                                                text  label  \n",
       "0  Daniel Greenfield, a Shillman Journalism Fello...      1  \n",
       "1  Google Pinterest Digg Linkedin Reddit Stumbleu...      1  \n",
       "2  U.S. Secretary of State John F. Kerry said Mon...      0  \n",
       "3  — Kaydee King (@KaydeeKing) November 9, 2016 T...      1  \n",
       "4  It's primary day in New York and front-runners...      0  "
      ]
     },
     "execution_count": 2,
     "metadata": {},
     "output_type": "execute_result"
    }
   ],
   "source": [
    "import re\n",
    "import pandas as pd\n",
    "from sklearn.model_selection import train_test_split\n",
    "from sklearn.feature_extraction.text import TfidfVectorizer\n",
    "from sklearn.metrics import accuracy_score\n",
    "\n",
    "# Keras imports\n",
    "from keras.models import Sequential\n",
    "from keras.layers import Dense, Embedding, LSTM, SpatialDropout1D,Reshape\n",
    "from keras.preprocessing.sequence import pad_sequences\n",
    "\n",
    "# Load the dataset\n",
    "data = pd.read_csv('/kaggle/input/fake-news/news.csv')\n",
    "data.drop(['Unnamed: 0'], axis=1, inplace=True)\n",
    "data['label'] = data['label'].map({'REAL': 0, 'FAKE': 1})\n",
    "\n",
    "data.head(5)"
   ]
  },
  {
   "cell_type": "code",
   "execution_count": 3,
   "id": "04962d42",
   "metadata": {
    "execution": {
     "iopub.execute_input": "2023-12-28T04:33:01.595825Z",
     "iopub.status.busy": "2023-12-28T04:33:01.594794Z",
     "iopub.status.idle": "2023-12-28T04:33:01.604434Z",
     "shell.execute_reply": "2023-12-28T04:33:01.603527Z"
    },
    "papermill": {
     "duration": 0.02051,
     "end_time": "2023-12-28T04:33:01.606874",
     "exception": false,
     "start_time": "2023-12-28T04:33:01.586364",
     "status": "completed"
    },
    "tags": []
   },
   "outputs": [],
   "source": [
    "import matplotlib.pyplot as plt\n",
    "def plot_training_history(history):\n",
    "    plt.figure(figsize=(12, 4))\n",
    "\n",
    "    plt.subplot(1, 2, 1)\n",
    "    plt.plot(history.history['accuracy'], label='Training', marker='o')\n",
    "    plt.plot(history.history['val_accuracy'], label='Validation', marker='o')\n",
    "    plt.title('Model Accuracy')\n",
    "    plt.xlabel('Eoochs')\n",
    "    plt.ylabel('Accuracy')\n",
    "    plt.legend()\n",
    "\n",
    "    # Perda de treinamento e validação\n",
    "    plt.subplot(1, 2, 2)\n",
    "    plt.plot(history.history['loss'], label='Training', marker='o')\n",
    "    plt.plot(history.history['val_loss'], label='Validation', marker='o')\n",
    "    plt.title('Model Loss')\n",
    "    plt.xlabel('Epochs')\n",
    "    plt.ylabel('Loss')\n",
    "    plt.legend()\n",
    "\n",
    "    plt.tight_layout()\n",
    "    plt.show()\n"
   ]
  },
  {
   "cell_type": "code",
   "execution_count": 4,
   "id": "e6818e16",
   "metadata": {
    "execution": {
     "iopub.execute_input": "2023-12-28T04:33:01.622744Z",
     "iopub.status.busy": "2023-12-28T04:33:01.622297Z",
     "iopub.status.idle": "2023-12-28T04:33:01.797794Z",
     "shell.execute_reply": "2023-12-28T04:33:01.796635Z"
    },
    "papermill": {
     "duration": 0.186043,
     "end_time": "2023-12-28T04:33:01.800046",
     "exception": false,
     "start_time": "2023-12-28T04:33:01.614003",
     "status": "completed"
    },
    "tags": []
   },
   "outputs": [
    {
     "data": {
      "text/html": [
       "<div>\n",
       "<style scoped>\n",
       "    .dataframe tbody tr th:only-of-type {\n",
       "        vertical-align: middle;\n",
       "    }\n",
       "\n",
       "    .dataframe tbody tr th {\n",
       "        vertical-align: top;\n",
       "    }\n",
       "\n",
       "    .dataframe thead th {\n",
       "        text-align: right;\n",
       "    }\n",
       "</style>\n",
       "<table border=\"1\" class=\"dataframe\">\n",
       "  <thead>\n",
       "    <tr style=\"text-align: right;\">\n",
       "      <th></th>\n",
       "      <th>title</th>\n",
       "      <th>text</th>\n",
       "      <th>label</th>\n",
       "      <th>combined_text</th>\n",
       "    </tr>\n",
       "  </thead>\n",
       "  <tbody>\n",
       "    <tr>\n",
       "      <th>0</th>\n",
       "      <td>You Can Smell Hillary’s Fear</td>\n",
       "      <td>Daniel Greenfield, a Shillman Journalism Fello...</td>\n",
       "      <td>1</td>\n",
       "      <td>You Can Smell Hillary’s Fear Daniel Greenfield...</td>\n",
       "    </tr>\n",
       "    <tr>\n",
       "      <th>1</th>\n",
       "      <td>Watch The Exact Moment Paul Ryan Committed Pol...</td>\n",
       "      <td>Google Pinterest Digg Linkedin Reddit Stumbleu...</td>\n",
       "      <td>1</td>\n",
       "      <td>Watch The Exact Moment Paul Ryan Committed Pol...</td>\n",
       "    </tr>\n",
       "    <tr>\n",
       "      <th>2</th>\n",
       "      <td>Kerry to go to Paris in gesture of sympathy</td>\n",
       "      <td>U.S. Secretary of State John F. Kerry said Mon...</td>\n",
       "      <td>0</td>\n",
       "      <td>Kerry to go to Paris in gesture of sympathy U....</td>\n",
       "    </tr>\n",
       "    <tr>\n",
       "      <th>3</th>\n",
       "      <td>Bernie supporters on Twitter erupt in anger ag...</td>\n",
       "      <td>— Kaydee King (@KaydeeKing) November 9, 2016 T...</td>\n",
       "      <td>1</td>\n",
       "      <td>Bernie supporters on Twitter erupt in anger ag...</td>\n",
       "    </tr>\n",
       "    <tr>\n",
       "      <th>4</th>\n",
       "      <td>The Battle of New York: Why This Primary Matters</td>\n",
       "      <td>It's primary day in New York and front-runners...</td>\n",
       "      <td>0</td>\n",
       "      <td>The Battle of New York: Why This Primary Matte...</td>\n",
       "    </tr>\n",
       "  </tbody>\n",
       "</table>\n",
       "</div>"
      ],
      "text/plain": [
       "                                               title  \\\n",
       "0                       You Can Smell Hillary’s Fear   \n",
       "1  Watch The Exact Moment Paul Ryan Committed Pol...   \n",
       "2        Kerry to go to Paris in gesture of sympathy   \n",
       "3  Bernie supporters on Twitter erupt in anger ag...   \n",
       "4   The Battle of New York: Why This Primary Matters   \n",
       "\n",
       "                                                text  label  \\\n",
       "0  Daniel Greenfield, a Shillman Journalism Fello...      1   \n",
       "1  Google Pinterest Digg Linkedin Reddit Stumbleu...      1   \n",
       "2  U.S. Secretary of State John F. Kerry said Mon...      0   \n",
       "3  — Kaydee King (@KaydeeKing) November 9, 2016 T...      1   \n",
       "4  It's primary day in New York and front-runners...      0   \n",
       "\n",
       "                                       combined_text  \n",
       "0  You Can Smell Hillary’s Fear Daniel Greenfield...  \n",
       "1  Watch The Exact Moment Paul Ryan Committed Pol...  \n",
       "2  Kerry to go to Paris in gesture of sympathy U....  \n",
       "3  Bernie supporters on Twitter erupt in anger ag...  \n",
       "4  The Battle of New York: Why This Primary Matte...  "
      ]
     },
     "execution_count": 4,
     "metadata": {},
     "output_type": "execute_result"
    }
   ],
   "source": [
    "def preprocessing(title, text):\n",
    "    # Combine the title and the text\n",
    "    combined_text = title + \" \" + text\n",
    "    combined_text = combined_text.strip()\n",
    "    # ... additional preprocessing if needed ...\n",
    "    return combined_text\n",
    "\n",
    "# Apply preprocessing\n",
    "data['combined_text'] = data.apply(lambda row: preprocessing(row['title'], row['text']), axis=1)\n",
    "\n",
    "data.head(5)"
   ]
  },
  {
   "cell_type": "code",
   "execution_count": 5,
   "id": "ceac52cc",
   "metadata": {
    "execution": {
     "iopub.execute_input": "2023-12-28T04:33:01.816572Z",
     "iopub.status.busy": "2023-12-28T04:33:01.815898Z",
     "iopub.status.idle": "2023-12-28T04:33:09.049112Z",
     "shell.execute_reply": "2023-12-28T04:33:09.047864Z"
    },
    "papermill": {
     "duration": 7.244637,
     "end_time": "2023-12-28T04:33:09.052151",
     "exception": false,
     "start_time": "2023-12-28T04:33:01.807514",
     "status": "completed"
    },
    "tags": []
   },
   "outputs": [],
   "source": [
    "\n",
    "# Split the dataset\n",
    "X_train, X_test, y_train, y_test = train_test_split(data['combined_text'], \n",
    "                                                    data['label'], test_size=0.2, \n",
    "                                                    random_state=42)\n",
    "\n",
    "# Initialize TfidfVectorizer\n",
    "vectorizer = TfidfVectorizer(max_features=10000)\n",
    "X_train_tfidf = vectorizer.fit_transform(X_train)\n",
    "X_test_tfidf = vectorizer.transform(X_test)\n",
    "\n",
    "# Convert to dense array for deep learning model\n",
    "X_train_tfidf = X_train_tfidf.toarray()\n",
    "X_test_tfidf = X_test_tfidf.toarray()"
   ]
  },
  {
   "cell_type": "code",
   "execution_count": 6,
   "id": "1ed71500",
   "metadata": {
    "execution": {
     "iopub.execute_input": "2023-12-28T04:33:09.069528Z",
     "iopub.status.busy": "2023-12-28T04:33:09.069136Z",
     "iopub.status.idle": "2023-12-28T04:33:09.291173Z",
     "shell.execute_reply": "2023-12-28T04:33:09.290015Z"
    },
    "papermill": {
     "duration": 0.234421,
     "end_time": "2023-12-28T04:33:09.294250",
     "exception": false,
     "start_time": "2023-12-28T04:33:09.059829",
     "status": "completed"
    },
    "tags": []
   },
   "outputs": [],
   "source": [
    "from keras.layers import Conv1D, GlobalMaxPooling1D\n",
    "\n",
    "model = Sequential()\n",
    "\n",
    "# Input layer (you might want to use an Embedding layer here if you switch to word embeddings)\n",
    "model.add(Dense(64, input_shape=(10000,), activation='relu'))\n",
    "model.add(Reshape((64, -1)))\n",
    "\n",
    "# Convolutional Layer\n",
    "model.add(Conv1D(filters=128, kernel_size=5, activation='relu'))\n",
    "model.add(GlobalMaxPooling1D())\n",
    "\n",
    "# Dense Layer\n",
    "model.add(Dense(32, activation='relu'))\n",
    "\n",
    "# Output layer\n",
    "model.add(Dense(1, activation='sigmoid'))\n",
    "\n",
    "# Compile the model\n",
    "model.compile(loss='binary_crossentropy', optimizer='adam', metrics=['accuracy'])\n"
   ]
  },
  {
   "cell_type": "code",
   "execution_count": 7,
   "id": "331c0c94",
   "metadata": {
    "execution": {
     "iopub.execute_input": "2023-12-28T04:33:09.311013Z",
     "iopub.status.busy": "2023-12-28T04:33:09.310569Z",
     "iopub.status.idle": "2023-12-28T04:33:09.337508Z",
     "shell.execute_reply": "2023-12-28T04:33:09.336311Z"
    },
    "papermill": {
     "duration": 0.045023,
     "end_time": "2023-12-28T04:33:09.346777",
     "exception": false,
     "start_time": "2023-12-28T04:33:09.301754",
     "status": "completed"
    },
    "tags": []
   },
   "outputs": [
    {
     "name": "stdout",
     "output_type": "stream",
     "text": [
      "Model: \"sequential\"\n",
      "_________________________________________________________________\n",
      " Layer (type)                Output Shape              Param #   \n",
      "=================================================================\n",
      " dense (Dense)               (None, 64)                640064    \n",
      "                                                                 \n",
      " reshape (Reshape)           (None, 64, 1)             0         \n",
      "                                                                 \n",
      " conv1d (Conv1D)             (None, 60, 128)           768       \n",
      "                                                                 \n",
      " global_max_pooling1d (Glob  (None, 128)               0         \n",
      " alMaxPooling1D)                                                 \n",
      "                                                                 \n",
      " dense_1 (Dense)             (None, 32)                4128      \n",
      "                                                                 \n",
      " dense_2 (Dense)             (None, 1)                 33        \n",
      "                                                                 \n",
      "=================================================================\n",
      "Total params: 644993 (2.46 MB)\n",
      "Trainable params: 644993 (2.46 MB)\n",
      "Non-trainable params: 0 (0.00 Byte)\n",
      "_________________________________________________________________\n"
     ]
    }
   ],
   "source": [
    "model.summary()"
   ]
  },
  {
   "cell_type": "code",
   "execution_count": 8,
   "id": "12a78533",
   "metadata": {
    "execution": {
     "iopub.execute_input": "2023-12-28T04:33:09.367597Z",
     "iopub.status.busy": "2023-12-28T04:33:09.367216Z",
     "iopub.status.idle": "2023-12-28T04:33:31.555477Z",
     "shell.execute_reply": "2023-12-28T04:33:31.554538Z"
    },
    "papermill": {
     "duration": 22.201829,
     "end_time": "2023-12-28T04:33:31.558138",
     "exception": false,
     "start_time": "2023-12-28T04:33:09.356309",
     "status": "completed"
    },
    "tags": []
   },
   "outputs": [
    {
     "name": "stdout",
     "output_type": "stream",
     "text": [
      "Epoch 1/10\n",
      "80/80 [==============================] - 2s 17ms/step - loss: 0.6542 - accuracy: 0.6093 - val_loss: 0.5091 - val_accuracy: 0.8358\n",
      "Epoch 2/10\n",
      "80/80 [==============================] - 1s 12ms/step - loss: 0.3160 - accuracy: 0.9193 - val_loss: 0.1983 - val_accuracy: 0.9329\n",
      "Epoch 3/10\n",
      "80/80 [==============================] - 1s 12ms/step - loss: 0.0981 - accuracy: 0.9745 - val_loss: 0.1532 - val_accuracy: 0.9416\n",
      "Epoch 4/10\n",
      "80/80 [==============================] - 1s 12ms/step - loss: 0.0309 - accuracy: 0.9949 - val_loss: 0.1583 - val_accuracy: 0.9424\n",
      "Epoch 5/10\n",
      "80/80 [==============================] - 1s 13ms/step - loss: 0.0123 - accuracy: 0.9986 - val_loss: 0.1677 - val_accuracy: 0.9416\n",
      "Epoch 6/10\n",
      "80/80 [==============================] - 1s 12ms/step - loss: 0.0077 - accuracy: 0.9992 - val_loss: 0.1700 - val_accuracy: 0.9448\n",
      "Epoch 7/10\n",
      "80/80 [==============================] - 1s 12ms/step - loss: 0.0063 - accuracy: 0.9992 - val_loss: 0.1788 - val_accuracy: 0.9440\n",
      "Epoch 8/10\n",
      "80/80 [==============================] - 1s 13ms/step - loss: 0.0057 - accuracy: 0.9992 - val_loss: 0.1860 - val_accuracy: 0.9440\n",
      "Epoch 9/10\n",
      "80/80 [==============================] - 1s 12ms/step - loss: 0.0055 - accuracy: 0.9992 - val_loss: 0.1922 - val_accuracy: 0.9416\n",
      "Epoch 10/10\n",
      "80/80 [==============================] - 1s 13ms/step - loss: 0.0054 - accuracy: 0.9992 - val_loss: 0.1949 - val_accuracy: 0.9424\n"
     ]
    }
   ],
   "source": [
    "# Train the model (make sure your data is correctly shaped)\n",
    "history = model.fit(X_train_tfidf, y_train, validation_data=(X_test_tfidf, y_test), epochs=10, batch_size=64)\n"
   ]
  },
  {
   "cell_type": "code",
   "execution_count": 9,
   "id": "b9ba37a5",
   "metadata": {
    "execution": {
     "iopub.execute_input": "2023-12-28T04:33:31.613683Z",
     "iopub.status.busy": "2023-12-28T04:33:31.612400Z",
     "iopub.status.idle": "2023-12-28T04:33:31.925677Z",
     "shell.execute_reply": "2023-12-28T04:33:31.924464Z"
    },
    "papermill": {
     "duration": 0.343285,
     "end_time": "2023-12-28T04:33:31.928101",
     "exception": false,
     "start_time": "2023-12-28T04:33:31.584816",
     "status": "completed"
    },
    "tags": []
   },
   "outputs": [
    {
     "name": "stdout",
     "output_type": "stream",
     "text": [
      "Accuracy: 94.24%\n"
     ]
    }
   ],
   "source": [
    "# Version 1: CNN with 10 epochs\n",
    "loss, accuracy = model.evaluate(X_test_tfidf, y_test, verbose=0)\n",
    "print(f'Accuracy: {round(accuracy*100,2)}%')"
   ]
  },
  {
   "cell_type": "code",
   "execution_count": 10,
   "id": "90b7a824",
   "metadata": {
    "execution": {
     "iopub.execute_input": "2023-12-28T04:33:31.983793Z",
     "iopub.status.busy": "2023-12-28T04:33:31.982566Z",
     "iopub.status.idle": "2023-12-28T04:33:32.583569Z",
     "shell.execute_reply": "2023-12-28T04:33:32.582413Z"
    },
    "papermill": {
     "duration": 0.631808,
     "end_time": "2023-12-28T04:33:32.585980",
     "exception": false,
     "start_time": "2023-12-28T04:33:31.954172",
     "status": "completed"
    },
    "tags": []
   },
   "outputs": [
    {
     "data": {
      "image/png": "[encoded data removed]",
      "text/plain": [
       "<Figure size 1200x400 with 2 Axes>"
      ]
     },
     "metadata": {},
     "output_type": "display_data"
    }
   ],
   "source": [
    "plot_training_history(history)"
   ]
  },
  {
   "cell_type": "markdown",
   "id": "9d844864",
   "metadata": {
    "papermill": {
     "duration": 0.026784,
     "end_time": "2023-12-28T04:33:32.640111",
     "exception": false,
     "start_time": "2023-12-28T04:33:32.613327",
     "status": "completed"
    },
    "tags": []
   },
   "source": [
    "# Version 2: Separate Title and Text"
   ]
  },
  {
   "cell_type": "code",
   "execution_count": 11,
   "id": "3b57e92c",
   "metadata": {
    "execution": {
     "iopub.execute_input": "2023-12-28T04:33:32.697150Z",
     "iopub.status.busy": "2023-12-28T04:33:32.696418Z",
     "iopub.status.idle": "2023-12-28T04:33:32.701392Z",
     "shell.execute_reply": "2023-12-28T04:33:32.700631Z"
    },
    "papermill": {
     "duration": 0.036128,
     "end_time": "2023-12-28T04:33:32.703550",
     "exception": false,
     "start_time": "2023-12-28T04:33:32.667422",
     "status": "completed"
    },
    "tags": []
   },
   "outputs": [],
   "source": [
    "def clean_text(text):\n",
    "    text = text.strip()                         #Removes Extra White Spaces\n",
    "    text = text.lower()                         #lowercase\n",
    "    text = re.sub(r'[^a-zA-Z0-9\\s]', '', text)     #Removes special characters\n",
    "    \n",
    "    return text"
   ]
  },
  {
   "cell_type": "code",
   "execution_count": 12,
   "id": "47e27553",
   "metadata": {
    "execution": {
     "iopub.execute_input": "2023-12-28T04:33:32.759986Z",
     "iopub.status.busy": "2023-12-28T04:33:32.759250Z",
     "iopub.status.idle": "2023-12-28T04:33:41.377317Z",
     "shell.execute_reply": "2023-12-28T04:33:41.376114Z"
    },
    "papermill": {
     "duration": 8.649424,
     "end_time": "2023-12-28T04:33:41.379969",
     "exception": false,
     "start_time": "2023-12-28T04:33:32.730545",
     "status": "completed"
    },
    "tags": []
   },
   "outputs": [],
   "source": [
    "# Preprocessing the title and text separately\n",
    "data['Clean_Title'] = data['title'].apply(clean_text)\n",
    "data['Clean_Text'] = data['text'].apply(clean_text)\n",
    "\n",
    "\n",
    "# Split the dataset\n",
    "X_train_titles, X_test_titles, y_train, y_test = train_test_split(data['Clean_Title'], \n",
    "                                                    data['label'], test_size=0.2, \n",
    "                                                    random_state=42)\n",
    "# Split the dataset\n",
    "X_train_texts, X_test_texts, y_train, y_test = train_test_split(data['Clean_Text'], \n",
    "                                                    data['label'], test_size=0.2, \n",
    "                                                    random_state=42)\n",
    "\n",
    "# Vectorize the title and text\n",
    "title_vectorizer = TfidfVectorizer(max_features=5000)  # You might want fewer features for titles\n",
    "text_vectorizer = TfidfVectorizer(max_features=10000)\n",
    "\n",
    "X_train_titles = title_vectorizer.fit_transform(X_train_titles).toarray()\n",
    "X_train_texts = text_vectorizer.fit_transform(X_train_texts).toarray()\n",
    "\n",
    "X_test_titles = title_vectorizer.transform(X_test_titles).toarray()\n",
    "X_test_texts = text_vectorizer.transform(X_test_texts).toarray()\n"
   ]
  },
  {
   "cell_type": "code",
   "execution_count": 13,
   "id": "85a604b8",
   "metadata": {
    "execution": {
     "iopub.execute_input": "2023-12-28T04:33:41.432795Z",
     "iopub.status.busy": "2023-12-28T04:33:41.432380Z",
     "iopub.status.idle": "2023-12-28T04:33:41.550121Z",
     "shell.execute_reply": "2023-12-28T04:33:41.549243Z"
    },
    "papermill": {
     "duration": 0.146613,
     "end_time": "2023-12-28T04:33:41.552580",
     "exception": false,
     "start_time": "2023-12-28T04:33:41.405967",
     "status": "completed"
    },
    "tags": []
   },
   "outputs": [],
   "source": [
    "from keras.layers import Input, Dense, concatenate\n",
    "from keras.models import Model\n",
    "\n",
    "# Title branch\n",
    "title_input = Input(shape=(5000,), name='title_input')\n",
    "title_branch = Dense(64, activation='relu')(title_input)\n",
    "title_branch = Reshape((64, -1))(title_branch)\n",
    "title_branch = Conv1D(128, 5, activation='relu')(title_branch)\n",
    "title_branch = GlobalMaxPooling1D()(title_branch)\n",
    "\n",
    "# Text branch\n",
    "text_input = Input(shape=(10000,), name='text_input')\n",
    "text_branch = Dense(64, activation='relu')(text_input)\n",
    "text_branch = Reshape((64, -1))(text_branch)\n",
    "text_branch = Conv1D(128, 5, activation='relu')(text_branch)\n",
    "text_branch = GlobalMaxPooling1D()(text_branch)\n",
    "\n",
    "# Combine branches\n",
    "combined = concatenate([title_branch, text_branch])\n",
    "\n",
    "# Add final layers\n",
    "combined = Dense(64, activation='relu')(combined)\n",
    "output = Dense(1, activation='sigmoid')(combined)\n",
    "\n",
    "model = Model(inputs=[title_input, text_input], outputs=output)\n"
   ]
  },
  {
   "cell_type": "code",
   "execution_count": 14,
   "id": "19f0529d",
   "metadata": {
    "execution": {
     "iopub.execute_input": "2023-12-28T04:33:41.607159Z",
     "iopub.status.busy": "2023-12-28T04:33:41.606500Z",
     "iopub.status.idle": "2023-12-28T04:34:02.353769Z",
     "shell.execute_reply": "2023-12-28T04:34:02.352683Z"
    },
    "papermill": {
     "duration": 20.777549,
     "end_time": "2023-12-28T04:34:02.356192",
     "exception": false,
     "start_time": "2023-12-28T04:33:41.578643",
     "status": "completed"
    },
    "tags": []
   },
   "outputs": [
    {
     "name": "stdout",
     "output_type": "stream",
     "text": [
      "Epoch 1/10\n",
      "159/159 [==============================] - 3s 13ms/step - loss: 0.4538 - accuracy: 0.7646 - val_loss: 0.1847 - val_accuracy: 0.9234\n",
      "Epoch 2/10\n",
      "159/159 [==============================] - 2s 11ms/step - loss: 0.0890 - accuracy: 0.9714 - val_loss: 0.1558 - val_accuracy: 0.9408\n",
      "Epoch 3/10\n",
      "159/159 [==============================] - 2s 11ms/step - loss: 0.0106 - accuracy: 0.9980 - val_loss: 0.1610 - val_accuracy: 0.9376\n",
      "Epoch 4/10\n",
      "159/159 [==============================] - 2s 11ms/step - loss: 0.0017 - accuracy: 1.0000 - val_loss: 0.1790 - val_accuracy: 0.9440\n",
      "Epoch 5/10\n",
      "159/159 [==============================] - 2s 12ms/step - loss: 6.7194e-04 - accuracy: 1.0000 - val_loss: 0.1860 - val_accuracy: 0.9432\n",
      "Epoch 6/10\n",
      "159/159 [==============================] - 2s 11ms/step - loss: 3.7525e-04 - accuracy: 1.0000 - val_loss: 0.1943 - val_accuracy: 0.9432\n",
      "Epoch 7/10\n",
      "159/159 [==============================] - 2s 11ms/step - loss: 2.3978e-04 - accuracy: 1.0000 - val_loss: 0.1997 - val_accuracy: 0.9424\n",
      "Epoch 8/10\n",
      "159/159 [==============================] - 2s 11ms/step - loss: 1.6509e-04 - accuracy: 1.0000 - val_loss: 0.2056 - val_accuracy: 0.9440\n",
      "Epoch 9/10\n",
      "159/159 [==============================] - 2s 13ms/step - loss: 1.1952e-04 - accuracy: 1.0000 - val_loss: 0.2104 - val_accuracy: 0.9432\n",
      "Epoch 10/10\n",
      "159/159 [==============================] - 2s 11ms/step - loss: 8.9630e-05 - accuracy: 1.0000 - val_loss: 0.2148 - val_accuracy: 0.9424\n"
     ]
    }
   ],
   "source": [
    "model.compile(optimizer='adam', loss='binary_crossentropy', metrics=['accuracy'])\n",
    "\n",
    "history = model.fit([X_train_titles, X_train_texts], y_train, \n",
    "            validation_data=([X_test_titles, X_test_texts], y_test), \n",
    "            epochs=10, batch_size=32)\n"
   ]
  },
  {
   "cell_type": "code",
   "execution_count": 15,
   "id": "ae3a9825",
   "metadata": {
    "execution": {
     "iopub.execute_input": "2023-12-28T04:34:02.536673Z",
     "iopub.status.busy": "2023-12-28T04:34:02.535875Z",
     "iopub.status.idle": "2023-12-28T04:34:03.075060Z",
     "shell.execute_reply": "2023-12-28T04:34:03.073654Z"
    },
    "papermill": {
     "duration": 0.663334,
     "end_time": "2023-12-28T04:34:03.077190",
     "exception": false,
     "start_time": "2023-12-28T04:34:02.413856",
     "status": "completed"
    },
    "tags": []
   },
   "outputs": [
    {
     "data": {
      "image/png": "[encoded data removed]",
      "text/plain": [
       "<Figure size 1200x400 with 2 Axes>"
      ]
     },
     "metadata": {},
     "output_type": "display_data"
    }
   ],
   "source": [
    "plot_training_history(history)"
   ]
  },
  {
   "cell_type": "code",
   "execution_count": 16,
   "id": "da2f503b",
   "metadata": {
    "execution": {
     "iopub.execute_input": "2023-12-28T04:34:03.198747Z",
     "iopub.status.busy": "2023-12-28T04:34:03.198292Z",
     "iopub.status.idle": "2023-12-28T04:34:03.556006Z",
     "shell.execute_reply": "2023-12-28T04:34:03.554850Z"
    },
    "papermill": {
     "duration": 0.4215,
     "end_time": "2023-12-28T04:34:03.558520",
     "exception": false,
     "start_time": "2023-12-28T04:34:03.137020",
     "status": "completed"
    },
    "tags": []
   },
   "outputs": [
    {
     "name": "stdout",
     "output_type": "stream",
     "text": [
      "Accuracy: 94.24%\n"
     ]
    }
   ],
   "source": [
    "# Version 2: CNN with Separate processing for \n",
    "loss, accuracy = model.evaluate([X_test_titles, X_test_texts], y_test, verbose=0)\n",
    "print(f'Accuracy: {round(accuracy*100,2)}%')"
   ]
  },
  {
   "cell_type": "code",
   "execution_count": 17,
   "id": "6c054ccf",
   "metadata": {
    "execution": {
     "iopub.execute_input": "2023-12-28T04:34:03.677923Z",
     "iopub.status.busy": "2023-12-28T04:34:03.676942Z",
     "iopub.status.idle": "2023-12-28T04:34:03.740337Z",
     "shell.execute_reply": "2023-12-28T04:34:03.739279Z"
    },
    "papermill": {
     "duration": 0.125813,
     "end_time": "2023-12-28T04:34:03.742708",
     "exception": false,
     "start_time": "2023-12-28T04:34:03.616895",
     "status": "completed"
    },
    "tags": []
   },
   "outputs": [
    {
     "name": "stderr",
     "output_type": "stream",
     "text": [
      "/opt/conda/lib/python3.10/site-packages/keras/src/engine/training.py:3000: UserWarning: You are saving your model as an HDF5 file via `model.save()`. This file format is considered legacy. We recommend using instead the native Keras format, e.g. `model.save('my_model.keras')`.\n",
      "  saving_api.save_model(\n"
     ]
    }
   ],
   "source": [
    "model.save('fakenews_cnn_model.h5')\n"
   ]
  },
  {
   "cell_type": "code",
   "execution_count": 18,
   "id": "a4353333",
   "metadata": {
    "execution": {
     "iopub.execute_input": "2023-12-28T04:34:03.864005Z",
     "iopub.status.busy": "2023-12-28T04:34:03.863563Z",
     "iopub.status.idle": "2023-12-28T04:34:05.840273Z",
     "shell.execute_reply": "2023-12-28T04:34:05.838631Z"
    },
    "papermill": {
     "duration": 2.039513,
     "end_time": "2023-12-28T04:34:05.841968",
     "exception": true,
     "start_time": "2023-12-28T04:34:03.802455",
     "status": "failed"
    },
    "tags": []
   },
   "outputs": [
    {
     "ename": "NameError",
     "evalue": "name 'scaler' is not defined",
     "output_type": "error",
     "traceback": [
      "\u001b[0;31m---------------------------------------------------------------------------\u001b[0m",
      "\u001b[0;31mNameError\u001b[0m                                 Traceback (most recent call last)",
      "Cell \u001b[0;32mIn[18], line 4\u001b[0m\n\u001b[1;32m      2\u001b[0m joblib\u001b[38;5;241m.\u001b[39mdump(title_vectorizer, \u001b[38;5;124m'\u001b[39m\u001b[38;5;124mtitle_vectorizer.pkl\u001b[39m\u001b[38;5;124m'\u001b[39m)\n\u001b[1;32m      3\u001b[0m joblib\u001b[38;5;241m.\u001b[39mdump(text_vectorizer, \u001b[38;5;124m'\u001b[39m\u001b[38;5;124mtext_vectorizer.pkl\u001b[39m\u001b[38;5;124m'\u001b[39m)\n\u001b[0;32m----> 4\u001b[0m joblib\u001b[38;5;241m.\u001b[39mdump(\u001b[43mscaler\u001b[49m, \u001b[38;5;124m'\u001b[39m\u001b[38;5;124mscaler.pkl\u001b[39m\u001b[38;5;124m'\u001b[39m)\n",
      "\u001b[0;31mNameError\u001b[0m: name 'scaler' is not defined"
     ]
    }
   ],
   "source": [
    "import joblib\n",
    "joblib.dump(title_vectorizer, 'title_vectorizer.pkl')\n",
    "joblib.dump(text_vectorizer, 'text_vectorizer.pkl')\n",
    "joblib.dump(scaler, 'scaler.pkl')\n"
   ]
  }
 ],
 "metadata": {
  "kaggle": {
   "accelerator": "none",
   "dataSources": [
    {
     "datasetId": 3950844,
     "sourceId": 6875518,
     "sourceType": "datasetVersion"
    }
   ],
   "dockerImageVersionId": 30626,
   "isGpuEnabled": false,
   "isInternetEnabled": true,
   "language": "python",
   "sourceType": "notebook"
  },
  "kernelspec": {
   "display_name": "Python 3",
   "language": "python",
   "name": "python3"
  },
  "language_info": {
   "codemirror_mode": {
    "name": "ipython",
    "version": 3
   },
   "file_extension": ".py",
   "mimetype": "text/x-python",
   "name": "python",
   "nbconvert_exporter": "python",
   "pygments_lexer": "ipython3",
   "version": "3.10.12"
  },
  "papermill": {
   "default_parameters": {},
   "duration": 84.288358,
   "end_time": "2023-12-28T04:34:07.727860",
   "environment_variables": {},
   "exception": true,
   "input_path": "__notebook__.ipynb",
   "output_path": "__notebook__.ipynb",
   "parameters": {},
   "start_time": "2023-12-28T04:32:43.439502",
   "version": "2.4.0"
  }
 },
 "nbformat": 4,
 "nbformat_minor": 5
}
